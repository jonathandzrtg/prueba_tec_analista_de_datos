{
 "cells": [
  {
   "cell_type": "code",
   "execution_count": 74,
   "id": "fef6289a",
   "metadata": {},
   "outputs": [],
   "source": [
    "\n",
    "# Función para desencriptar el mensaje\n",
    "def desencriptar_mensaje(vector_alfabeto, vector_letras, vector_desplazamiento, vector_direccion):\n",
    "    mensaje_desencriptado = ''\n",
    "    posicion = 0\n",
    "    saltos = 0\n",
    "    letra = ''\n",
    "    \n",
    "    for i in range(len(vector_desplazamiento)):\n",
    "\n",
    "        saltos = vector_alfabeto.index(vector_desplazamiento[i])\n",
    "        if vector_direccion[i] != 1:\n",
    "            saltos = saltos * (-1)\n",
    "        \n",
    "        letra = vector_letras[(posicion + saltos)]\n",
    "        if letra == 'E':\n",
    "            letra = letra.lower()\n",
    "        mensaje_desencriptado = mensaje_desencriptado + letra\n",
    "        \n",
    "        posicion = posicion + saltos\n",
    "    return mensaje_desencriptado"
   ]
  },
  {
   "cell_type": "code",
   "execution_count": 75,
   "id": "325e2798",
   "metadata": {},
   "outputs": [
    {
     "name": "stdout",
     "output_type": "stream",
     "text": [
      "Peligro en la obra Brisas del Volador\n"
     ]
    }
   ],
   "source": [
    "# Vectores de entrada\n",
    "vector_alfabeto = ['a', 'b', 'c', 'd', 'e', 'f', 'g', 'h', 'i', 'j', 'k', 'l', 'm', 'n', 'ñ', 'o', 'p', 'q', 'r', 's', 't', 'u', 'v', 'w', 'x', 'y', 'z']\n",
    "vector_letras = ['V', 'E', 'r', 'o', 'g', 'n', 'a', 'b', ' ', 'P', 'B', 's', 'd', 'i', 'l']\n",
    "vector_desplazamiento = ['j', 'i', 'n', 'b', 'j', 'c', 'b', 'f', 'h', 'e', 'd', 'g', 'i', 'c', 'f', 'e', 'f', 'e', 'c', 'c', 'i', 'l', 'c', 'f', 'f', 'd', 'e', 'l', 'n', 'g', 'i', 'd', 'l', 'i', 'g', 'j', 'b']\n",
    "vector_direccion = [1, 0, 1, 0, 0, 0, 1, 1, 0, 1, 1, 1, 0, 1, 0, 1, 0, 1, 1, 1, 0, 1, 0, 0, 1, 0, 1, 0, 1, 0, 0, 1, 1, 0, 1, 0, 0]\n",
    "\n",
    "# Desencriptar el mensaje\n",
    "mensaje_desencriptado = desencriptar_mensaje(vector_alfabeto, vector_letras, vector_desplazamiento, vector_direccion)\n",
    "print(mensaje_desencriptado)\n"
   ]
  },
  {
   "cell_type": "code",
   "execution_count": null,
   "id": "4a90391f",
   "metadata": {},
   "outputs": [],
   "source": []
  },
  {
   "cell_type": "code",
   "execution_count": null,
   "id": "4344a96f",
   "metadata": {},
   "outputs": [],
   "source": []
  },
  {
   "cell_type": "code",
   "execution_count": null,
   "id": "942d1963",
   "metadata": {},
   "outputs": [],
   "source": []
  }
 ],
 "metadata": {
  "kernelspec": {
   "display_name": "Python 3 (ipykernel)",
   "language": "python",
   "name": "python3"
  },
  "language_info": {
   "codemirror_mode": {
    "name": "ipython",
    "version": 3
   },
   "file_extension": ".py",
   "mimetype": "text/x-python",
   "name": "python",
   "nbconvert_exporter": "python",
   "pygments_lexer": "ipython3",
   "version": "3.9.13"
  }
 },
 "nbformat": 4,
 "nbformat_minor": 5
}
